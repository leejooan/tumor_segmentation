{
  "nbformat": 4,
  "nbformat_minor": 0,
  "metadata": {
    "colab": {
      "name": "Inference",
      "private_outputs": true,
      "provenance": [],
      "machine_shape": "hm",
      "authorship_tag": "ABX9TyMLuPmUq/6lzh3gxrcbsPi0",
      "include_colab_link": true
    },
    "kernelspec": {
      "name": "python3",
      "display_name": "Python 3"
    },
    "language_info": {
      "name": "python"
    },
    "accelerator": "GPU"
  },
  "cells": [
    {
      "cell_type": "markdown",
      "metadata": {
        "id": "view-in-github",
        "colab_type": "text"
      },
      "source": [
        "<a href=\"https://colab.research.google.com/github/leejooan/tumor_segmentation/blob/master/Inference.ipynb\" target=\"_parent\"><img src=\"https://colab.research.google.com/assets/colab-badge.svg\" alt=\"Open In Colab\"/></a>"
      ]
    },
    {
      "cell_type": "code",
      "source": [
        "from google.colab import drive\n",
        "drive.mount('/content/drive')"
      ],
      "metadata": {
        "id": "3Ql1R_2lq6sZ"
      },
      "execution_count": null,
      "outputs": []
    },
    {
      "cell_type": "code",
      "execution_count": null,
      "metadata": {
        "id": "UaaTUySXq4oB"
      },
      "outputs": [],
      "source": [
        "!python -c \"import monai\" || pip install -q \"monai-weekly[nibabel]\"\n",
        "!python -c \"import matplotlib\" || pip install -q matplotlib"
      ]
    },
    {
      "cell_type": "code",
      "source": [
        "path1 = '/content/drive/MyDrive/AI/project/brats18_test' # replace your data path\n",
        "dpiv = 80"
      ],
      "metadata": {
        "id": "7S_lImRNq8vw"
      },
      "execution_count": null,
      "outputs": []
    },
    {
      "cell_type": "code",
      "source": [
        "from monai.transforms import (\n",
        "    AddChanneld,\n",
        "    Compose,\n",
        "    LoadImaged,\n",
        "    CenterSpatialCropd,\n",
        "    NormalizeIntensityd,\n",
        "    RandSpatialCropd,\n",
        "    MapTransform,\n",
        "    ToTensord,\n",
        ")\n",
        "from monai.config import print_config\n",
        "from monai.data import DataLoader, Dataset\n",
        "from monai.utils import first\n",
        "\n",
        "from monai.losses import DiceLoss\n",
        "from monai.metrics import DiceMetric\n",
        "from monai.networks.nets import UNet\n",
        "from monai.inferers import sliding_window_inference\n",
        "from monai.networks.layers import Norm\n",
        "\n",
        "import torch\n",
        "import torch.nn as nn\n",
        "import torch.optim as optim\n",
        "\n",
        "import numpy as np\n",
        "import matplotlib.pyplot as plt\n",
        "import os\n",
        "import glob\n",
        "#add\n",
        "from monai.transforms import(\n",
        "    RandFlipd,\n",
        "    RandScaleIntensityd,\n",
        "    RandShiftIntensityd,\n",
        "    RandRotate90d,\n",
        "    ScaleIntensityd,\n",
        "    CropForegroundd,\n",
        "    AdjustContrastd, \n",
        "    Spacingd,\n",
        "    ThresholdIntensityd,\n",
        "     RandAdjustContrastd,\n",
        "    Invertd,\n",
        "   EnsureTyped,\n",
        "   HistogramNormalized,\n",
        "    EnsureChannelFirstd\n",
        ")"
      ],
      "metadata": {
        "id": "WE6VAjxSq9Zb"
      },
      "execution_count": null,
      "outputs": []
    },
    {
      "cell_type": "code",
      "source": [
        "path_test = glob.glob(os.path.join(path1,'Brats18*'))\n",
        "len(path_test)"
      ],
      "metadata": {
        "id": "ERA-CTycuFXo"
      },
      "execution_count": null,
      "outputs": []
    },
    {
      "cell_type": "code",
      "source": [
        "if torch.cuda.is_available():\n",
        "  device = torch.device('cuda:0')\n",
        "else:\n",
        "  device = torch.device('cpu')\n",
        "\n",
        "print(device)"
      ],
      "metadata": {
        "id": "BHMIP8iPq9b3"
      },
      "execution_count": null,
      "outputs": []
    },
    {
      "cell_type": "code",
      "source": [
        "test_ind = np.arange(0,20)\n",
        "data_dicts = [\n",
        "    {\n",
        "        \"image\": os.path.join(path_test[idx],\n",
        "                                    \"t1ce.nii.gz\"),\n",
        "    }\n",
        "    for idx in test_ind\n",
        "]\n",
        "test_files =  data_dicts"
      ],
      "metadata": {
        "id": "TDT0DcE2q9el"
      },
      "execution_count": null,
      "outputs": []
    },
    {
      "cell_type": "code",
      "source": [
        "test_transforms = Compose(\n",
        "    [\n",
        "      LoadImaged(keys=(\"image\")),\n",
        "      AddChanneld(keys=(\"image\")),\n",
        "      NormalizeIntensityd(keys=\"image\", nonzero=True, channel_wise=True),\n",
        "      ToTensord(keys=[\"image\"]),\n",
        "    \n",
        "    ]\n",
        ")"
      ],
      "metadata": {
        "id": "5KglGvTIq9hM"
      },
      "execution_count": null,
      "outputs": []
    },
    {
      "cell_type": "code",
      "source": [
        "test_ds = Dataset(data = test_files, transform = test_transforms)\n",
        "test_loader = DataLoader(test_ds,batch_size = 1)"
      ],
      "metadata": {
        "id": "cn2OY1sjq9jz"
      },
      "execution_count": null,
      "outputs": []
    },
    {
      "cell_type": "code",
      "source": [
        "import nibabel as nib\n",
        "path_out = os.path.join(path1,'test_out') # the results will be saved in this folder\n",
        "if os.path.isdir(path_out)==0:\n",
        "  os.mkdir(path_out)"
      ],
      "metadata": {
        "id": "lznAMiQ8rGld"
      },
      "execution_count": null,
      "outputs": []
    },
    {
      "cell_type": "code",
      "source": [
        "path2='/content/drive/MyDrive/AI/project/brats18_test'"
      ],
      "metadata": {
        "id": "3zl-QeNYupAs"
      },
      "execution_count": null,
      "outputs": []
    },
    {
      "cell_type": "code",
      "source": [
        "device = torch.device(\"cuda:0\")\n",
        "model = UNet(\n",
        "    dimensions=3,\n",
        "    in_channels=1,\n",
        "    out_channels=2,\n",
        "    channels=(8, 16, 32, 64),\n",
        "    strides=(2, 2, 2, 2),\n",
        "    num_res_units=3,\n",
        "    norm=Norm.BATCH,\n",
        ").to(device)\n",
        "loss_function = DiceLoss(to_onehot_y=True, softmax=True)\n",
        "\n",
        "root_dir = path2\n",
        "model.load_state_dict(torch.load(\n",
        "    os.path.join(root_dir, \"best_metric_model_epoch_208.pth\")))\n"
      ],
      "metadata": {
        "id": "MIXLkvufrGsy"
      },
      "execution_count": null,
      "outputs": []
    },
    {
      "cell_type": "code",
      "source": [
        "model.eval()\n",
        "flag_save = 1\n",
        "\n",
        "with torch.no_grad():\n",
        "    for val_data in test_loader:\n",
        "        val_inputs = val_data[\"image\"].to(device)\n",
        "        roi_size = (160, 160, 64)\n",
        "        sw_batch_size = 4\n",
        "        val_outputs = sliding_window_inference(\n",
        "            val_inputs, roi_size, sw_batch_size, model, overlap=0.75)\n",
        "        val_preds = val_outputs.softmax(1)\n",
        "        if flag_save == 1:\n",
        "            val_seg = torch.argmax(val_preds.cpu(),dim=1).numpy()\n",
        "            pid = val_data['image_meta_dict']['filename_or_obj'][0].split('/')[-2]\n",
        "            h = nib.load(val_data['image_meta_dict']['filename_or_obj'][0])\n",
        "            h_new=nib.Nifti1Image(val_seg[0],h.affine,h.header)\n",
        "            nib.save(h_new,os.path.join(path_out,pid+'.nii.gz'))\n",
        "            "
      ],
      "metadata": {
        "id": "kX2XQGunrGvm"
      },
      "execution_count": null,
      "outputs": []
    },
    {
      "cell_type": "code",
      "source": [
        ""
      ],
      "metadata": {
        "id": "2-SfmkBwq9mP"
      },
      "execution_count": null,
      "outputs": []
    },
    {
      "cell_type": "code",
      "source": [
        ""
      ],
      "metadata": {
        "id": "75iMlLkwq9o0"
      },
      "execution_count": null,
      "outputs": []
    }
  ]
}