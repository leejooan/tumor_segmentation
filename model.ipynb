{
  "cells": [
    {
      "cell_type": "markdown",
      "metadata": {
        "id": "view-in-github",
        "colab_type": "text"
      },
      "source": [
        "<a href=\"https://colab.research.google.com/github/leejooan/tumor_segmentation/blob/master/model.ipynb\" target=\"_parent\"><img src=\"https://colab.research.google.com/assets/colab-badge.svg\" alt=\"Open In Colab\"/></a>"
      ]
    },
    {
      "cell_type": "code",
      "execution_count": null,
      "metadata": {
        "colab": {
          "base_uri": "https://localhost:8080/"
        },
        "id": "cx4p9x4HIbBM",
        "outputId": "3a6b9b59-4073-4f32-c5ef-e587ef141d40"
      },
      "outputs": [
        {
          "output_type": "stream",
          "name": "stdout",
          "text": [
            "Mounted at /content/drive\n"
          ]
        }
      ],
      "source": [
        "    from google.colab import drive\n",
        "drive.mount('/content/drive')"
      ]
    },
    {
      "cell_type": "code",
      "execution_count": null,
      "metadata": {
        "id": "6AweN4dfp7HZ",
        "colab": {
          "base_uri": "https://localhost:8080/"
        },
        "outputId": "5f61c1c9-d685-4486-852f-7a5cfa5716e1"
      },
      "outputs": [
        {
          "output_type": "stream",
          "name": "stdout",
          "text": [
            "Traceback (most recent call last):\n",
            "  File \"<string>\", line 1, in <module>\n",
            "ModuleNotFoundError: No module named 'monai'\n",
            "\u001b[K     |████████████████████████████████| 821 kB 5.4 MB/s \n",
            "\u001b[?25h"
          ]
        }
      ],
      "source": [
        "!python -c \"import monai\" || pip install -q \"monai-weekly[nibabel]\"\n",
        "!python -c \"import matplotlib\" || pip install -q matplotlib"
      ]
    },
    {
      "cell_type": "code",
      "execution_count": null,
      "metadata": {
        "id": "shqM7J8nqCrH"
      },
      "outputs": [],
      "source": [
        "path0 = '/content/drive/MyDrive/AI/project/brats18_train' # replace your data path\n",
        "dpiv = 80"
      ]
    },
    {
      "cell_type": "code",
      "source": [
        "path1 = '/content/drive/MyDrive/AI/project/brats18_test' # replace your data path\n",
        "dpiv = 80"
      ],
      "metadata": {
        "id": "mpU78f0pCrby"
      },
      "execution_count": null,
      "outputs": []
    },
    {
      "cell_type": "code",
      "execution_count": null,
      "metadata": {
        "id": "zOapCncIqCuG"
      },
      "outputs": [],
      "source": [
        "from monai.transforms import (\n",
        "    AddChanneld,\n",
        "    Compose,\n",
        "    LoadImaged,\n",
        "    CenterSpatialCropd,\n",
        "    NormalizeIntensityd,\n",
        "    RandSpatialCropd,\n",
        "    MapTransform,\n",
        "    ToTensord,\n",
        ")\n",
        "from monai.config import print_config\n",
        "from monai.data import DataLoader, Dataset\n",
        "from monai.utils import first\n",
        "\n",
        "from monai.losses import DiceLoss\n",
        "from monai.metrics import DiceMetric\n",
        "from monai.networks.nets import UNet\n",
        "from monai.inferers import sliding_window_inference\n",
        "from monai.networks.layers import Norm\n",
        "\n",
        "import torch\n",
        "import torch.nn as nn\n",
        "import torch.optim as optim\n",
        "\n",
        "import numpy as np\n",
        "import matplotlib.pyplot as plt\n",
        "import os\n",
        "import glob\n",
        "\n",
        "from monai.transforms import(\n",
        "    RandFlipd,\n",
        "    RandScaleIntensityd,\n",
        "    RandShiftIntensityd,\n",
        "    RandRotate90d,\n",
        "    ScaleIntensityd,\n",
        "    CropForegroundd,\n",
        "    AdjustContrastd, \n",
        "    Spacingd,\n",
        "    ThresholdIntensityd,\n",
        "     RandAdjustContrastd,\n",
        "    Invertd,\n",
        "   EnsureTyped,\n",
        "   HistogramNormalized,\n",
        "   RandGaussianNoised,\n",
        "    EnsureChannelFirstd,\n",
        "    GaussianSmooth,\n",
        "    RandCropByPosNegLabeld,\n",
        ")"
      ]
    },
    {
      "cell_type": "code",
      "execution_count": null,
      "metadata": {
        "colab": {
          "base_uri": "https://localhost:8080/"
        },
        "id": "HEfgrYxi1-mX",
        "outputId": "dac7813e-6243-4418-9339-9af01fdd9cb9"
      },
      "outputs": [
        {
          "output_type": "stream",
          "name": "stdout",
          "text": [
            "cuda:0\n"
          ]
        }
      ],
      "source": [
        "if torch.cuda.is_available():\n",
        "  device = torch.device('cuda:0')\n",
        "else:\n",
        "  device = torch.device('cpu')\n",
        "\n",
        "print(device)"
      ]
    },
    {
      "cell_type": "code",
      "execution_count": null,
      "metadata": {
        "colab": {
          "base_uri": "https://localhost:8080/"
        },
        "id": "jjwPEQxvqCxE",
        "outputId": "dcd5d9f2-a3a8-4bfa-9df1-4897c964fcd1"
      },
      "outputs": [
        {
          "output_type": "execute_result",
          "data": {
            "text/plain": [
              "94"
            ]
          },
          "metadata": {},
          "execution_count": 7
        }
      ],
      "source": [
        "path_list = glob.glob(os.path.join(path0,'Brats18*'))\n",
        "len(path_list)"
      ]
    },
    {
      "cell_type": "code",
      "execution_count": null,
      "metadata": {
        "colab": {
          "base_uri": "https://localhost:8080/"
        },
        "id": "grkRInPtQUOv",
        "outputId": "10428d68-ed4a-4237-c42e-395a97912c6c"
      },
      "outputs": [
        {
          "output_type": "execute_result",
          "data": {
            "text/plain": [
              "20"
            ]
          },
          "metadata": {},
          "execution_count": 8
        }
      ],
      "source": [
        "path_test = glob.glob(os.path.join(path1,'Brats18*'))\n",
        "len(path_test)"
      ]
    },
    {
      "cell_type": "markdown",
      "metadata": {
        "id": "RUWOFGQC3szC"
      },
      "source": [
        "### data split (train/valid)"
      ]
    },
    {
      "cell_type": "code",
      "execution_count": null,
      "metadata": {
        "id": "z7Hd9MTTqC0a"
      },
      "outputs": [],
      "source": [
        "train_ind = np.arange(0,80)\n",
        "data_dicts = [\n",
        "    {\n",
        "        \"image\": os.path.join(path_list[idx],\n",
        "                                    \"t1ce.nii.gz\"),\n",
        "        \"label\": os.path.join(path_list[idx],\n",
        "                                    \"seg.nii.gz\"),\n",
        "    }\n",
        "    for idx in train_ind\n",
        "]\n",
        "train_files =  data_dicts"
      ]
    },
    {
      "cell_type": "code",
      "execution_count": null,
      "metadata": {
        "id": "OGeQ8-EW_gL9"
      },
      "outputs": [],
      "source": [
        "valid_ind = np.arange(80,94)\n",
        "data_dicts = [\n",
        "    {\n",
        "        \"image\": os.path.join(path_list[idx],\n",
        "                                    \"t1ce.nii.gz\"),\n",
        "        \"label\": os.path.join(path_list[idx],\n",
        "                                    \"seg.nii.gz\"),\n",
        "    }\n",
        "    for idx in valid_ind\n",
        "]\n",
        "valid_files =  data_dicts"
      ]
    },
    {
      "cell_type": "code",
      "source": [
        "test_ind = np.arange(0,20)\n",
        "data_dicts = [\n",
        "    {\n",
        "        \"image\": os.path.join(path_test[idx],\n",
        "                                    \"t1ce.nii.gz\"),\n",
        "    }\n",
        "    for idx in test_ind\n",
        "]\n",
        "test_files =  data_dicts"
      ],
      "metadata": {
        "id": "gyfCcbofC4eu"
      },
      "execution_count": null,
      "outputs": []
    },
    {
      "cell_type": "code",
      "execution_count": null,
      "metadata": {
        "id": "Xu345ZUNsqJu"
      },
      "outputs": [],
      "source": [
        "from monai.transforms.croppad.dictionary import RandCropByPosNegLabeld\n",
        "from monai.transforms.intensity.dictionary import RandGaussianNoised\n",
        "train_transforms = Compose(  \n",
        "    [\n",
        "      LoadImaged(keys=(\"image\",\"label\")),\n",
        "      AddChanneld(keys=(\"image\",\"label\")),\n",
        "      CenterSpatialCropd(keys=[\"image\", \"label\"], roi_size=[224, 224, 96]),\n",
        "      NormalizeIntensityd(keys=\"image\", nonzero=True, channel_wise=True),\n",
        "      RandSpatialCropd(keys=[\"image\", \"label\"], roi_size=[160, 160, 64],random_size=False),\n",
        "      ToTensord(keys=[\"image\", \"label\"]),\n",
        "     \n",
        "     RandScaleIntensityd(keys=\"image\", factors=0.1, prob=1.0),\n",
        "     RandShiftIntensityd(keys=\"image\", offsets=0.1, prob=1.0),\n",
        "     RandFlipd(keys=[\"image\", \"label\"], prob=0.5, spatial_axis=0),\n",
        "     RandFlipd(keys=[\"image\", \"label\"], prob=0.5, spatial_axis=1),\n",
        "     RandFlipd(keys=[\"image\", \"label\"], prob=0.5, spatial_axis=2),\n",
        "     RandGaussianNoised(keys=[\"image\"], prob=0.5, mean=0,std=0.05),\n",
        "     \n",
        "    ]\n",
        ")\n",
        "\n",
        "valid_transforms = Compose(\n",
        "    [\n",
        "      LoadImaged(keys=(\"image\",\"label\")),\n",
        "      AddChanneld(keys=(\"image\",\"label\")),\n",
        "      NormalizeIntensityd(keys=\"image\", nonzero=True, channel_wise=True),\n",
        "      ToTensord(keys=[\"image\", \"label\"]),\n",
        "    \n",
        "    ]\n",
        ")\n",
        "\n",
        "test_transforms = Compose(\n",
        "    [\n",
        "      LoadImaged(keys=(\"image\")),\n",
        "      AddChanneld(keys=(\"image\")),\n",
        "      NormalizeIntensityd(keys=\"image\", nonzero=True, channel_wise=True),\n",
        "      ToTensord(keys=[\"image\"]),\n",
        "     \n",
        "    ]\n",
        ")"
      ]
    },
    {
      "cell_type": "code",
      "execution_count": null,
      "metadata": {
        "id": "Fup7O-sxqK6z"
      },
      "outputs": [],
      "source": [
        "train_ds = Dataset(data = train_files, transform = train_transforms)\n",
        "train_loader = DataLoader(train_ds,batch_size = 2)"
      ]
    },
    {
      "cell_type": "code",
      "execution_count": null,
      "metadata": {
        "id": "ZLOx4_0n_sYm"
      },
      "outputs": [],
      "source": [
        "valid_ds = Dataset(data = valid_files, transform = valid_transforms)\n",
        "valid_loader = DataLoader(valid_ds,batch_size = 1)"
      ]
    },
    {
      "cell_type": "code",
      "source": [
        "test_ds = Dataset(data = test_files, transform = test_transforms)\n",
        "test_loader = DataLoader(test_ds,batch_size = 1)"
      ],
      "metadata": {
        "id": "nZa9PCMCDOdn"
      },
      "execution_count": null,
      "outputs": []
    },
    {
      "cell_type": "code",
      "execution_count": null,
      "metadata": {
        "colab": {
          "base_uri": "https://localhost:8080/",
          "height": 466
        },
        "id": "lu1oCK8YtXM5",
        "outputId": "b70199e7-b62e-4efe-82e6-23108ecd65a2"
      },
      "outputs": [
        {
          "output_type": "stream",
          "name": "stdout",
          "text": [
            "torch.Size([2, 1, 160, 160, 64])\n",
            "torch.Size([2, 1, 160, 160, 64])\n"
          ]
        },
        {
          "output_type": "display_data",
          "data": {
            "text/plain": [
              "<Figure size 480x320 with 2 Axes>"
            ],
            "image/png": "[encoded data removed]"
          },
          "metadata": {
            "needs_background": "light"
          }
        },
        {
          "output_type": "display_data",
          "data": {
            "text/plain": [
              "<Figure size 480x320 with 2 Axes>"
            ],
            "image/png": "[encoded data removed]"
          },
          "metadata": {
            "needs_background": "light"
          }
        }
      ],
      "source": [
        "cnt = 0\n",
        "for data in train_loader:\n",
        "  print(data[\"image\"].shape)\n",
        "  print(data[\"label\"].shape)\n",
        "\n",
        "  for n in range(0,len(data[\"image\"])):\n",
        "    plt.figure(dpi=dpiv)\n",
        "    plt.subplot(121)\n",
        "    plt.imshow(np.transpose(np.max(data[\"image\"][n,0,:,:,:].numpy(),axis=2),(1,0)),cmap='gray')  \n",
        "\n",
        "    label = (data[\"label\"]==1).type(torch.FloatTensor) + (data[\"label\"]==2).type(torch.FloatTensor) + (data[\"label\"]==4).type(torch.FloatTensor) \n",
        "    plt.subplot(122)\n",
        "    plt.imshow(np.transpose(np.max(label[n,0,:,:,:].numpy(),axis=2),(1,0)),vmin=0,vmax=2)\n",
        "    plt.show()\n",
        "\n",
        "  break\n",
        " "
      ]
    },
    {
      "cell_type": "markdown",
      "metadata": {
        "id": "js-f6W0NKsq5"
      },
      "source": [
        "# Model"
      ]
    },
    {
      "cell_type": "code",
      "execution_count": null,
      "metadata": {
        "colab": {
          "base_uri": "https://localhost:8080/"
        },
        "id": "-xg29kHctvpv",
        "outputId": "72f3671e-b1f8-4540-bdc5-1fdb63677d2d"
      },
      "outputs": [
        {
          "output_type": "stream",
          "name": "stderr",
          "text": [
            "/usr/local/lib/python3.7/dist-packages/monai/networks/nets/unet.py:139: UserWarning: `len(strides) > len(channels) - 1`, the last 1 values of strides will not be used.\n",
            "  warnings.warn(f\"`len(strides) > len(channels) - 1`, the last {delta} values of strides will not be used.\")\n"
          ]
        }
      ],
      "source": [
        "\n",
        "device = torch.device(\"cuda:0\")\n",
        "model = UNet(\n",
        "    dimensions=3,\n",
        "    in_channels=1,\n",
        "    out_channels=2,\n",
        "    channels=(8, 16, 32, 64),\n",
        "    strides=(2, 2, 2, 2),\n",
        "    num_res_units=3,\n",
        "    norm=Norm.BATCH,\n",
        ").to(device)\n",
        "loss_function = DiceLoss(to_onehot_y=True, softmax=True)\n"
      ]
    },
    {
      "cell_type": "markdown",
      "metadata": {
        "id": "Nwr9813eKn1g"
      },
      "source": [
        "# Train"
      ]
    },
    {
      "cell_type": "code",
      "execution_count": null,
      "metadata": {
        "id": "hemLi5El1lkb",
        "colab": {
          "base_uri": "https://localhost:8080/",
          "height": 510
        },
        "outputId": "a5609fa1-c6ed-46f4-e299-2e747f48f228"
      },
      "outputs": [
        {
          "output_type": "stream",
          "name": "stdout",
          "text": [
            "----------\n",
            "epoch 1/300\n",
            "epoch 1 average loss: 0.6384\n",
            "----------\n",
            "epoch 2/300\n"
          ]
        },
        {
          "output_type": "error",
          "ename": "KeyboardInterrupt",
          "evalue": "ignored",
          "traceback": [
            "\u001b[0;31m---------------------------------------------------------------------------\u001b[0m",
            "\u001b[0;31mKeyboardInterrupt\u001b[0m                         Traceback (most recent call last)",
            "\u001b[0;32m<ipython-input-18-55ef069113cb>\u001b[0m in \u001b[0;36m<module>\u001b[0;34m()\u001b[0m\n\u001b[1;32m     32\u001b[0m         \u001b[0moutputs\u001b[0m \u001b[0;34m=\u001b[0m \u001b[0mmodel\u001b[0m\u001b[0;34m(\u001b[0m\u001b[0minputs\u001b[0m\u001b[0;34m)\u001b[0m\u001b[0;34m\u001b[0m\u001b[0;34m\u001b[0m\u001b[0m\n\u001b[1;32m     33\u001b[0m         \u001b[0mloss\u001b[0m \u001b[0;34m=\u001b[0m \u001b[0mloss_function\u001b[0m\u001b[0;34m(\u001b[0m\u001b[0moutputs\u001b[0m\u001b[0;34m,\u001b[0m \u001b[0mlabels\u001b[0m\u001b[0;34m)\u001b[0m\u001b[0;34m\u001b[0m\u001b[0;34m\u001b[0m\u001b[0m\n\u001b[0;32m---> 34\u001b[0;31m         \u001b[0mloss\u001b[0m\u001b[0;34m.\u001b[0m\u001b[0mbackward\u001b[0m\u001b[0;34m(\u001b[0m\u001b[0;34m)\u001b[0m\u001b[0;34m\u001b[0m\u001b[0;34m\u001b[0m\u001b[0m\n\u001b[0m\u001b[1;32m     35\u001b[0m         \u001b[0moptimizer\u001b[0m\u001b[0;34m.\u001b[0m\u001b[0mstep\u001b[0m\u001b[0;34m(\u001b[0m\u001b[0;34m)\u001b[0m\u001b[0;34m\u001b[0m\u001b[0;34m\u001b[0m\u001b[0m\n\u001b[1;32m     36\u001b[0m         \u001b[0mepoch_loss\u001b[0m \u001b[0;34m+=\u001b[0m \u001b[0mloss\u001b[0m\u001b[0;34m.\u001b[0m\u001b[0mitem\u001b[0m\u001b[0;34m(\u001b[0m\u001b[0;34m)\u001b[0m\u001b[0;34m\u001b[0m\u001b[0;34m\u001b[0m\u001b[0m\n",
            "\u001b[0;32m/usr/local/lib/python3.7/dist-packages/torch/_tensor.py\u001b[0m in \u001b[0;36mbackward\u001b[0;34m(self, gradient, retain_graph, create_graph, inputs)\u001b[0m\n\u001b[1;32m    361\u001b[0m                 \u001b[0mcreate_graph\u001b[0m\u001b[0;34m=\u001b[0m\u001b[0mcreate_graph\u001b[0m\u001b[0;34m,\u001b[0m\u001b[0;34m\u001b[0m\u001b[0;34m\u001b[0m\u001b[0m\n\u001b[1;32m    362\u001b[0m                 inputs=inputs)\n\u001b[0;32m--> 363\u001b[0;31m         \u001b[0mtorch\u001b[0m\u001b[0;34m.\u001b[0m\u001b[0mautograd\u001b[0m\u001b[0;34m.\u001b[0m\u001b[0mbackward\u001b[0m\u001b[0;34m(\u001b[0m\u001b[0mself\u001b[0m\u001b[0;34m,\u001b[0m \u001b[0mgradient\u001b[0m\u001b[0;34m,\u001b[0m \u001b[0mretain_graph\u001b[0m\u001b[0;34m,\u001b[0m \u001b[0mcreate_graph\u001b[0m\u001b[0;34m,\u001b[0m \u001b[0minputs\u001b[0m\u001b[0;34m=\u001b[0m\u001b[0minputs\u001b[0m\u001b[0;34m)\u001b[0m\u001b[0;34m\u001b[0m\u001b[0;34m\u001b[0m\u001b[0m\n\u001b[0m\u001b[1;32m    364\u001b[0m \u001b[0;34m\u001b[0m\u001b[0m\n\u001b[1;32m    365\u001b[0m     \u001b[0;32mdef\u001b[0m \u001b[0mregister_hook\u001b[0m\u001b[0;34m(\u001b[0m\u001b[0mself\u001b[0m\u001b[0;34m,\u001b[0m \u001b[0mhook\u001b[0m\u001b[0;34m)\u001b[0m\u001b[0;34m:\u001b[0m\u001b[0;34m\u001b[0m\u001b[0;34m\u001b[0m\u001b[0m\n",
            "\u001b[0;32m/usr/local/lib/python3.7/dist-packages/torch/autograd/__init__.py\u001b[0m in \u001b[0;36mbackward\u001b[0;34m(tensors, grad_tensors, retain_graph, create_graph, grad_variables, inputs)\u001b[0m\n\u001b[1;32m    173\u001b[0m     Variable._execution_engine.run_backward(  # Calls into the C++ engine to run the backward pass\n\u001b[1;32m    174\u001b[0m         \u001b[0mtensors\u001b[0m\u001b[0;34m,\u001b[0m \u001b[0mgrad_tensors_\u001b[0m\u001b[0;34m,\u001b[0m \u001b[0mretain_graph\u001b[0m\u001b[0;34m,\u001b[0m \u001b[0mcreate_graph\u001b[0m\u001b[0;34m,\u001b[0m \u001b[0minputs\u001b[0m\u001b[0;34m,\u001b[0m\u001b[0;34m\u001b[0m\u001b[0;34m\u001b[0m\u001b[0m\n\u001b[0;32m--> 175\u001b[0;31m         allow_unreachable=True, accumulate_grad=True)  # Calls into the C++ engine to run the backward pass\n\u001b[0m\u001b[1;32m    176\u001b[0m \u001b[0;34m\u001b[0m\u001b[0m\n\u001b[1;32m    177\u001b[0m def grad(\n",
            "\u001b[0;31mKeyboardInterrupt\u001b[0m: "
          ]
        }
      ],
      "source": [
        "root_dir = path0 \n",
        "\n",
        "max_epochs = 300\n",
        "val_interval = 4\n",
        "best_metric = -1\n",
        "best_metric_epoch = -1\n",
        "epoch_loss_values = []\n",
        "metric_values = []\n",
        "\n",
        "#optimizer = torch.optim.Adam(model.parameters(), lr)\n",
        "#Adam===>adamW\n",
        "optimizer = torch.optim.AdamW(model.parameters(), 1e-4, weight_decay=1e-5)\n",
        "lr_scheduler = torch.optim.lr_scheduler.CosineAnnealingLR(optimizer, T_max=max_epochs)\n",
        "for epoch in range(max_epochs):\n",
        "    print(\"-\" * 10)\n",
        "    print(f\"epoch {epoch + 1}/{max_epochs}\")\n",
        "    model.train()\n",
        "    epoch_loss = 0\n",
        "    step = 0\n",
        "    for batch_data in train_loader:\n",
        "        step += 1\n",
        "        inputs, labels = (\n",
        "            batch_data[\"image\"].to(device),\n",
        "            batch_data[\"label\"],\n",
        "        )\n",
        "\n",
        "        labels = (labels==1).type(torch.FloatTensor) + (labels==4).type(torch.FloatTensor)\n",
        "        labels[labels>0] = 1\n",
        "        labels = labels.to(device)\n",
        "\n",
        "        optimizer.zero_grad()\n",
        "        outputs = model(inputs)\n",
        "        loss = loss_function(outputs, labels)\n",
        "        loss.backward()\n",
        "        optimizer.step()\n",
        "        epoch_loss += loss.item()\n",
        "       \n",
        "    lr_scheduler.step()\n",
        "    epoch_loss /= step\n",
        "    epoch_loss_values.append(epoch_loss)\n",
        "    print(f\"epoch {epoch + 1} average loss: {epoch_loss:.4f}\")\n",
        " \n",
        "    if (epoch + 1) % val_interval == 0:\n",
        "        model.eval()\n",
        "        with torch.no_grad():\n",
        "            metric_sum = 0.0\n",
        "            metric_count = 0\n",
        "            disp_val_no = np.random.randint(len(valid_files))\n",
        "            for val_data in valid_loader:\n",
        "                val_inputs, val_labels = (\n",
        "                    val_data[\"image\"].to(device),\n",
        "                    val_data[\"label\"],\n",
        "                )        \n",
        "\n",
        "                val_labels = (val_labels==1).type(torch.FloatTensor)  + (val_labels==4).type(torch.FloatTensor)\n",
        "                val_labels[val_labels>0] = 1\n",
        "                val_labels = val_labels.to(device)\n",
        "                \n",
        "                roi_size = (160, 160, 64)\n",
        "                sw_batch_size = 4\n",
        "                val_outputs = sliding_window_inference(\n",
        "                    val_inputs, roi_size, sw_batch_size, model, overlap=0.75)\n",
        "                val_loss = loss_function(val_outputs, val_labels)   \n",
        "                \n",
        "                metric_count += 1\n",
        "                metric_sum += (1-val_loss.sum().item())\n",
        "                \n",
        "                if metric_count == disp_val_no:\n",
        "                  print(val_data['image_meta_dict']['filename_or_obj'])\n",
        "                  zz = np.argmax(np.sum(np.sum(np.array(val_labels[0,0,:,:,:].cpu()),axis=1),axis=0))\n",
        "                  val_preds = val_outputs.softmax(1)\n",
        "                  plt.figure(dpi=dpiv)\n",
        "                  plt.subplot(131)\n",
        "                  plt.imshow(np.transpose(val_inputs[0,0,:,:,zz].cpu().numpy(),(1,0)),cmap='gray')\n",
        "                  plt.axis('off')\n",
        "                  plt.title('ceT1 MRI')\n",
        "                  plt.subplot(132)\n",
        "                  plt.imshow(np.transpose(val_labels[0,0,:,:,zz].cpu().numpy(),(1,0)))\n",
        "                  plt.axis('off')\n",
        "                  plt.title('ground truth')\n",
        "                  plt.subplot(133)\n",
        "                  plt.imshow(np.transpose(val_preds[0,1,:,:,zz].cpu().numpy(),(1,0)))\n",
        "                  plt.axis('off')\n",
        "                  plt.title('prediction')\n",
        "                  plt.show()\n",
        "                \n",
        "            metric = metric_sum / metric_count\n",
        "            metric_values.append(metric)\n",
        "            \n",
        "            if metric > best_metric:\n",
        "                best_metric = metric\n",
        "                best_metric_epoch = epoch + 1\n",
        "                torch.save(model.state_dict(), os.path.join(\n",
        "                    root_dir, f\"best_metric_model_epoch_{best_metric_epoch}.pth\"))    \n",
        "                print(\"saved new best metric model\")\n",
        "            \n",
        "            print(\n",
        "                f\"current epoch: {epoch + 1} current mean dice: {metric:.4f}\"\n",
        "                f\"\\nbest mean dice: {best_metric:.4f} \"\n",
        "                f\"at epoch: {best_metric_epoch}\")"
      ]
    },
    {
      "cell_type": "code",
      "execution_count": null,
      "metadata": {
        "id": "2mKZphYzaC-A"
      },
      "outputs": [],
      "source": [
        "torch.save(model.state_dict(), '/content/drive/MyDrive/AI/project') "
      ]
    },
    {
      "cell_type": "code",
      "source": [
        "path_model = '/content/drive/MyDrive/AI/project/model/' # replace your data path\n",
        "dpiv = 80"
      ],
      "metadata": {
        "id": "rsyJFxbe4sTW"
      },
      "execution_count": null,
      "outputs": []
    },
    {
      "cell_type": "code",
      "source": [
        "torch.save(model, path_model+'model2.pt')"
      ],
      "metadata": {
        "id": "Mstnv5L-zRdH"
      },
      "execution_count": null,
      "outputs": []
    },
    {
      "cell_type": "markdown",
      "metadata": {
        "id": "Fj2XklPDyNJX"
      },
      "source": [
        "## plot the loss and metric"
      ]
    },
    {
      "cell_type": "code",
      "execution_count": null,
      "metadata": {
        "id": "y1nR-63OyLMX"
      },
      "outputs": [],
      "source": [
        "plt.figure(\"train\", (12, 6))\n",
        "plt.subplot(1, 2, 1)\n",
        "plt.title(\"Epoch Average Loss\")\n",
        "x = [i + 1 for i in range(len(epoch_loss_values))]\n",
        "y = epoch_loss_values\n",
        "plt.xlabel(\"epoch\")\n",
        "plt.plot(x, y)\n",
        "plt.subplot(1, 2, 2)\n",
        "plt.title(\"Val Mean Dice\")\n",
        "x = [val_interval * (i + 1) for i in range(len(metric_values))]\n",
        "y = metric_values\n",
        "plt.xlabel(\"epoch\")\n",
        "plt.plot(x, y)\n",
        "plt.show()"
      ]
    }
  ],
  "metadata": {
    "accelerator": "GPU",
    "colab": {
      "collapsed_sections": [],
      "machine_shape": "hm",
      "name": "model.ipynb",
      "provenance": [],
      "include_colab_link": true
    },
    "kernelspec": {
      "display_name": "Python 3",
      "name": "python3"
    },
    "language_info": {
      "name": "python"
    }
  },
  "nbformat": 4,
  "nbformat_minor": 0
}
